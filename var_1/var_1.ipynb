{
 "cells": [
  {
   "cell_type": "code",
   "id": "initial_id",
   "metadata": {
    "collapsed": true,
    "ExecuteTime": {
     "end_time": "2024-11-17T10:01:17.717109Z",
     "start_time": "2024-11-17T10:01:17.706967Z"
    }
   },
   "source": [
    "import hash_table_v1\n",
    "import random as r"
   ],
   "outputs": [],
   "execution_count": 1
  },
  {
   "metadata": {
    "ExecuteTime": {
     "end_time": "2024-11-17T10:04:32.145529Z",
     "start_time": "2024-11-17T10:04:32.136935Z"
    }
   },
   "cell_type": "code",
   "source": [
    "hasht = hash_table_v1.HashTable(1000)\n",
    "\n",
    "hasht.insert(500, \"r\")\n",
    "hasht.insert(1500, \"w\")\n",
    "\n",
    "hasht.find(500)"
   ],
   "id": "7afc8cddcfd24138",
   "outputs": [
    {
     "data": {
      "text/plain": [
       "'w'"
      ]
     },
     "execution_count": 6,
     "metadata": {},
     "output_type": "execute_result"
    }
   ],
   "execution_count": 6
  },
  {
   "metadata": {},
   "cell_type": "code",
   "outputs": [],
   "execution_count": null,
   "source": "",
   "id": "806ef393126bbf9a"
  }
 ],
 "metadata": {
  "kernelspec": {
   "display_name": "Python 3",
   "language": "python",
   "name": "python3"
  },
  "language_info": {
   "codemirror_mode": {
    "name": "ipython",
    "version": 2
   },
   "file_extension": ".py",
   "mimetype": "text/x-python",
   "name": "python",
   "nbconvert_exporter": "python",
   "pygments_lexer": "ipython2",
   "version": "2.7.6"
  }
 },
 "nbformat": 4,
 "nbformat_minor": 5
}
