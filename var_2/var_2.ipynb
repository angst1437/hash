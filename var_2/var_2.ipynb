{
 "cells": [
  {
   "metadata": {
    "ExecuteTime": {
     "end_time": "2024-11-17T01:40:10.095568Z",
     "start_time": "2024-11-17T01:40:10.088380Z"
    }
   },
   "cell_type": "code",
   "source": [
    "def polynomial_hash(s, table_size, base=31):\n",
    "    hash_value = 0\n",
    "    for char in str(s):\n",
    "        hash_value = (hash_value * base + ord(char)) % table_size\n",
    "    return hash_value\n",
    "\n",
    "polynomial_hash('5000000000', 100)"
   ],
   "id": "fbc121e30a2defb3",
   "outputs": [
    {
     "data": {
      "text/plain": [
       "35"
      ]
     },
     "execution_count": 4,
     "metadata": {},
     "output_type": "execute_result"
    }
   ],
   "execution_count": 4
  },
  {
   "metadata": {},
   "cell_type": "code",
   "outputs": [],
   "execution_count": null,
   "source": "",
   "id": "25e87a96df32c16c"
  }
 ],
 "metadata": {
  "kernelspec": {
   "display_name": "Python 3",
   "language": "python",
   "name": "python3"
  },
  "language_info": {
   "codemirror_mode": {
    "name": "ipython",
    "version": 2
   },
   "file_extension": ".py",
   "mimetype": "text/x-python",
   "name": "python",
   "nbconvert_exporter": "python",
   "pygments_lexer": "ipython2",
   "version": "2.7.6"
  }
 },
 "nbformat": 4,
 "nbformat_minor": 5
}
