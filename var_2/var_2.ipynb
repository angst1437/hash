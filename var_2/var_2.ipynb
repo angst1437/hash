{
 "cells": [
  {
   "metadata": {
    "ExecuteTime": {
     "end_time": "2024-11-17T06:34:58.242390Z",
     "start_time": "2024-11-17T06:34:58.234382Z"
    }
   },
   "cell_type": "code",
   "source": [
    "import hash_funcs as h\n",
    "import hash_table_class\n",
    "import random as r"
   ],
   "id": "fbc121e30a2defb3",
   "outputs": [],
   "execution_count": 1
  },
  {
   "metadata": {
    "ExecuteTime": {
     "end_time": "2024-11-17T06:34:58.460792Z",
     "start_time": "2024-11-17T06:34:58.448006Z"
    }
   },
   "cell_type": "code",
   "source": [
    "hasht = hash_table_class.HashTable(10000)\n",
    "key = r.randint(0, 100)\n",
    "hasht.insert(key, \"привет\")\n",
    "print(hasht.find(key))\n",
    "hasht.insert(key, \"пока\")"
   ],
   "id": "ead8ebbd419e6440",
   "outputs": [
    {
     "name": "stdout",
     "output_type": "stream",
     "text": [
      "привет\n",
      "ключ 43 уже существует!\n"
     ]
    }
   ],
   "execution_count": 2
  },
  {
   "metadata": {
    "ExecuteTime": {
     "end_time": "2024-11-17T06:34:51.498323Z",
     "start_time": "2024-11-17T06:34:51.494813Z"
    }
   },
   "cell_type": "code",
   "source": "",
   "id": "9665b374ee46ce21",
   "outputs": [],
   "execution_count": null
  },
  {
   "metadata": {},
   "cell_type": "code",
   "outputs": [],
   "execution_count": null,
   "source": "",
   "id": "af1220f4fdf87785"
  }
 ],
 "metadata": {
  "kernelspec": {
   "display_name": "Python 3",
   "language": "python",
   "name": "python3"
  },
  "language_info": {
   "codemirror_mode": {
    "name": "ipython",
    "version": 2
   },
   "file_extension": ".py",
   "mimetype": "text/x-python",
   "name": "python",
   "nbconvert_exporter": "python",
   "pygments_lexer": "ipython2",
   "version": "2.7.6"
  }
 },
 "nbformat": 4,
 "nbformat_minor": 5
}
